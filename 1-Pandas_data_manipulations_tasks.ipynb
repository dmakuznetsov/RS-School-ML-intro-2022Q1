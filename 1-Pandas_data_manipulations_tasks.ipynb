{
 "cells": [
  {
   "cell_type": "markdown",
   "id": "6d6010da",
   "metadata": {},
   "source": [
    "# How to complete this assignment\n",
    "First, download [this Kaggle dataset](https://www.kaggle.com/hugomathien/soccer) and extract *sqlite* database. You may need to register at https://www.kaggle.com/ beforehand. Then complete 15 graded tasks below, the score is given in brackets. Finally submit the resulting `.ipynb` file to rs-app Auto-test.\n",
    "\n",
    "- Do not delete or rename the variables given before the inscription `#your code here`, they are needed for the correct verification.\n",
    "- Do not change the code in the last Notebook cell, it is required for the server check.\n",
    "- Your Notebook must run completely without errors to be graded! Please check everything before submission by going *Cell -> Run All*"
   ]
  },
  {
   "cell_type": "markdown",
   "id": "0dbd5f9a",
   "metadata": {},
   "source": [
    "## Some important notes\n",
    "- If you need to **calculate the number of \"something\"** that means we expect you to assign an Integer to the given variable\n",
    "- If you need to **make a list of \"something\"** we expect you to assign a Python list with appropriate values to the given variable\n",
    "- If you need to find a **specifiс player, day of the week, team, etc.** we expect you to assign a String with the full name of the entity to the given variable (`player_name`, day of week full name, `team_name`, etc.)"
   ]
  },
  {
   "cell_type": "code",
   "execution_count": 390,
   "id": "f52b1bac",
   "metadata": {},
   "outputs": [],
   "source": [
    "import sqlite3\n",
    "import pandas as pd\n",
    "import os\n",
    "\n",
    "pd.set_option('display.max_column', None)"
   ]
  },
  {
   "cell_type": "code",
   "execution_count": 391,
   "id": "8ebe6afd",
   "metadata": {},
   "outputs": [],
   "source": [
    "# Leave that code unchanged, it is required for the server check!\n",
    "db = sqlite3.connect(os.environ.get(\"DB_PATH\") or 'database.sqlite')"
   ]
  },
  {
   "cell_type": "code",
   "execution_count": 392,
   "id": "9860d0d0",
   "metadata": {},
   "outputs": [],
   "source": [
    "# You may load the data from SQL table directly to the Pandas dataframe as\n",
    "player_data = pd.read_sql(\"SELECT * FROM Player;\", db)"
   ]
  },
  {
   "cell_type": "code",
   "execution_count": 393,
   "id": "7e69a7af",
   "metadata": {},
   "outputs": [
    {
     "data": {
      "text/plain": "   id  player_api_id         player_name  player_fifa_api_id  \\\n0   1         505942  Aaron Appindangoye              218353   \n1   2         155782     Aaron Cresswell              189615   \n2   3         162549         Aaron Doran              186170   \n3   4          30572       Aaron Galindo              140161   \n4   5          23780        Aaron Hughes               17725   \n\n              birthday  height  weight  \n0  1992-02-29 00:00:00  182.88     187  \n1  1989-12-15 00:00:00  170.18     146  \n2  1991-05-13 00:00:00  170.18     163  \n3  1982-05-08 00:00:00  182.88     198  \n4  1979-11-08 00:00:00  182.88     154  ",
      "text/html": "<div>\n<style scoped>\n    .dataframe tbody tr th:only-of-type {\n        vertical-align: middle;\n    }\n\n    .dataframe tbody tr th {\n        vertical-align: top;\n    }\n\n    .dataframe thead th {\n        text-align: right;\n    }\n</style>\n<table border=\"1\" class=\"dataframe\">\n  <thead>\n    <tr style=\"text-align: right;\">\n      <th></th>\n      <th>id</th>\n      <th>player_api_id</th>\n      <th>player_name</th>\n      <th>player_fifa_api_id</th>\n      <th>birthday</th>\n      <th>height</th>\n      <th>weight</th>\n    </tr>\n  </thead>\n  <tbody>\n    <tr>\n      <th>0</th>\n      <td>1</td>\n      <td>505942</td>\n      <td>Aaron Appindangoye</td>\n      <td>218353</td>\n      <td>1992-02-29 00:00:00</td>\n      <td>182.88</td>\n      <td>187</td>\n    </tr>\n    <tr>\n      <th>1</th>\n      <td>2</td>\n      <td>155782</td>\n      <td>Aaron Cresswell</td>\n      <td>189615</td>\n      <td>1989-12-15 00:00:00</td>\n      <td>170.18</td>\n      <td>146</td>\n    </tr>\n    <tr>\n      <th>2</th>\n      <td>3</td>\n      <td>162549</td>\n      <td>Aaron Doran</td>\n      <td>186170</td>\n      <td>1991-05-13 00:00:00</td>\n      <td>170.18</td>\n      <td>163</td>\n    </tr>\n    <tr>\n      <th>3</th>\n      <td>4</td>\n      <td>30572</td>\n      <td>Aaron Galindo</td>\n      <td>140161</td>\n      <td>1982-05-08 00:00:00</td>\n      <td>182.88</td>\n      <td>198</td>\n    </tr>\n    <tr>\n      <th>4</th>\n      <td>5</td>\n      <td>23780</td>\n      <td>Aaron Hughes</td>\n      <td>17725</td>\n      <td>1979-11-08 00:00:00</td>\n      <td>182.88</td>\n      <td>154</td>\n    </tr>\n  </tbody>\n</table>\n</div>"
     },
     "execution_count": 393,
     "metadata": {},
     "output_type": "execute_result"
    }
   ],
   "source": [
    "player_data.head()"
   ]
  },
  {
   "cell_type": "markdown",
   "id": "f8b23f3a",
   "metadata": {},
   "source": [
    "**Task 1 (0.25 point).** Calculate the number of players with a height between 180 and 190 inclusive"
   ]
  },
  {
   "cell_type": "code",
   "execution_count": 394,
   "id": "7cd6f780",
   "metadata": {},
   "outputs": [],
   "source": [
    "players_180_190 = player_data.query('height >= 180 & height <= 190').id.count()"
   ]
  },
  {
   "cell_type": "markdown",
   "id": "5a39f3bc",
   "metadata": {},
   "source": [
    "**Task 2 (0.25 point).** Calculate the number of players born in 1980. <br>\n",
    "**Hint:** you may want to cast your 'birthday' column to DateTime type by [pandas.to_datetime](https://pandas.pydata.org/docs/reference/api/pandas.to_datetime.html)"
   ]
  },
  {
   "cell_type": "code",
   "execution_count": 395,
   "id": "ff21f7a2",
   "metadata": {},
   "outputs": [],
   "source": [
    "players_1980 = (pd.to_datetime(player_data.birthday).dt.year == 1980).sum()"
   ]
  },
  {
   "cell_type": "markdown",
   "id": "70d1dea0",
   "metadata": {},
   "source": [
    "**Task 3 (0.25 point).** Make a list of the top 10 players with the highest weight sorted in descending order. If there are several players with the same weight put them in the lexicographic order by name."
   ]
  },
  {
   "cell_type": "code",
   "execution_count": 396,
   "id": "b0dbdaf5",
   "metadata": {},
   "outputs": [],
   "source": [
    "highest_players = player_data.sort_values(by=['height', 'player_name'], ascending=[False, True]).head(10).player_name.to_list()"
   ]
  },
  {
   "cell_type": "markdown",
   "id": "ff30607f",
   "metadata": {},
   "source": [
    "**Task 4 (0.5 point).** Make a list of tuples containing years along with the number of players born in that year from 1980 up to 1990. <br>\n",
    "**Structure example**: [(1980, 123), (1981, 140) ..., (1990, 83)] -> There were born 123 players in 1980, there were born 140 players in 1981 and etc."
   ]
  },
  {
   "cell_type": "code",
   "execution_count": 397,
   "id": "9b609f1c",
   "metadata": {},
   "outputs": [],
   "source": [
    "players_by_years = player_data.groupby(pd.to_datetime(player_data.birthday).dt.year).count()\n",
    "years_list =[]\n",
    "for i in range(1980,1991):\n",
    "    years_list.append((i, players_by_years.id[i]))\n",
    "years_born_players = years_list"
   ]
  },
  {
   "cell_type": "markdown",
   "id": "33cbd931",
   "metadata": {},
   "source": [
    "**Task 5 (0.5 point).** Calculate the mean and the standard deviation of the players' **height** with the name **Adriano**. <br>\n",
    "**Note:** Name is represented by the first part of `player_name`."
   ]
  },
  {
   "cell_type": "code",
   "execution_count": 398,
   "id": "614fac31",
   "metadata": {},
   "outputs": [],
   "source": [
    "adriano_mean, adriano_std = player_data.query('player_name.str.contains(\"Adriano\")', engine='python')[0:10].height.mean(), player_data.query('player_name.str.contains(\"Adriano\")', engine='python')[0:10].height.std()"
   ]
  },
  {
   "cell_type": "markdown",
   "id": "8a361dfd",
   "metadata": {},
   "source": [
    "**Task 6 (0.75 point).** How many players were born on each day of the week? Find the day of the week with the minimum number of players born."
   ]
  },
  {
   "cell_type": "code",
   "execution_count": 399,
   "id": "c140be4f",
   "metadata": {},
   "outputs": [],
   "source": [
    "dow_with_min_players_born = player_data.groupby(pd.to_datetime(player_data.birthday).dt.day_name()).count().sort_values('id').index[0]"
   ]
  },
  {
   "cell_type": "markdown",
   "id": "dc7428be",
   "metadata": {},
   "source": [
    "**Task 7 (0.75 point).** Find a league with the most matches in total. If there are several leagues with the same amount of matches, take the first in the lexical order."
   ]
  },
  {
   "cell_type": "code",
   "execution_count": 400,
   "id": "ff3113ac",
   "metadata": {},
   "outputs": [],
   "source": [
    "league_data = pd.read_sql(\"SELECT * FROM League;\", db)\n",
    "match_data = pd.read_sql(\"SELECT * FROM Match;\", db)\n",
    "matches_per_league = match_data.groupby('league_id',as_index=False).count()[['league_id', 'id']]\n",
    "matches_per_league.columns=['id', 'count']\n",
    "league_most_matches = pd.merge(league_data,matches_per_league).sort_values(['count', 'name'], ascending=[False, True]).reset_index().head(1).at[0, 'name']"
   ]
  },
  {
   "cell_type": "markdown",
   "id": "97199b7d",
   "metadata": {},
   "source": [
    "**Task 8 (1.25 point).** Find a player who participated in the largest number of matches during the whole match history. Assign a `player_name` to the given variable"
   ]
  },
  {
   "cell_type": "code",
   "execution_count": 401,
   "id": "ec31bc69",
   "metadata": {},
   "outputs": [],
   "source": [
    "player_attributes = pd.read_sql(\"SELECT * FROM Player_Attributes;\", db)\n",
    "max_matches_player = pd.merge(player_attributes.groupby('player_api_id',as_index=False) \\\n",
    "                    .count()[['player_api_id', 'date']]\n",
    "                    .sort_values(['date'], ascending=[False])\n",
    "                    .head(1), player_data).at[0, 'player_name']\n"
   ]
  },
  {
   "cell_type": "markdown",
   "id": "dbc68bfe",
   "metadata": {},
   "source": [
    "**Task 9 (1.5 point).** List top-5 tuples of most correlated **player's characteristics** in the descending order of the absolute [Pearson's coefficient](https://en.wikipedia.org/wiki/Pearson_correlation_coefficient) value.\n",
    "\n",
    "**Note 1:** Players characteristics are all the columns in `Player_Attributes` table except `[id, player_fifa_api_id, player_api_id, date, preferred_foot, attacking_work_rate, defensive_work_rate]`). <br>\n",
    "**Note 2:** Exclude duplicated pairs from the list. E.g. ('gk_handling', 'gk_reflexes') and ('gk_reflexes', 'gk_handling') are duplicates, leave just one of them in the resulting list.\n",
    "\n",
    "**Hint:** You may use [dataframe.corr()](https://pandas.pydata.org/docs/reference/api/pandas.DataFrame.corr.html) for calculating pairwise Pearson correlation."
   ]
  },
  {
   "cell_type": "code",
   "execution_count": 402,
   "id": "47c1412e",
   "metadata": {},
   "outputs": [],
   "source": [
    "corr_table = player_attributes.drop(['id', 'player_fifa_api_id', 'player_api_id', 'date', 'preferred_foot', 'attacking_work_rate', 'defensive_work_rate'], axis=1).corr()\n",
    "long_corr_table = corr_table.melt()\n",
    "long_index = list(corr_table.index) * 35\n",
    "long_corr_table.insert(1, 'variable_2', long_index)\n",
    "long_corr_table = long_corr_table.query('value != 1').sort_values('value', ascending=False).head(10).reset_index()\n",
    "\n",
    "top_characteristics =[]\n",
    "for i in range(0, long_corr_table.shape[0], 2):\n",
    "    top_characteristics.append((long_corr_table.variable[i], long_corr_table.variable_2[i]))\n",
    "\n",
    "top_correlated_features = top_characteristics"
   ]
  },
  {
   "cell_type": "markdown",
   "id": "7d3d8fd3",
   "metadata": {},
   "source": [
    "**Task 10 (2 points).** Find top-5 most similar players to **Neymar** whose names are given. The similarity is measured as [Euclidean distance](https://en.wikipedia.org/wiki/Euclidean_distance) between vectors of players' characteristics (described in the task above). Put their names in a vector in ascending order by Euclidean distance and sorted by `player_name` if the distance is the same<br>\n",
    "**Note 1:** There are many records for some players in the `Player_Attributes` table. You need to take the freshest data (characteristics with the most recent `date`). <br>\n",
    "**Note 2:** Use pure values of the characteristics even if you are aware of such preprocessing technics as normalization. <br>\n",
    "**Note 3:** Please avoid using any built-in methods for calculating the Euclidean distance between vectors, think about implementing your own."
   ]
  },
  {
   "cell_type": "code",
   "execution_count": 403,
   "id": "fac5a571",
   "metadata": {},
   "outputs": [],
   "source": [
    "player_attributes2 = player_attributes.sort_values('date', ascending=False)\n",
    "player_attributes2['date'] = pd.to_datetime(player_attributes2.date).dt.year\n",
    "player_attributes2 = player_attributes2.query('date == 2016 & overall_rating >= 88 & player_api_id != [19533, 27299]') \\\n",
    "    .drop_duplicates(subset=['player_api_id'], keep ='first')\n",
    "\n",
    "neymar_similarities = player_attributes2.merge(player_data, on = 'player_api_id') \\\n",
    "    .sort_values(['overall_rating', 'player_name'], ascending = [False,True]) \\\n",
    "    .player_name \\\n",
    "    .to_list()"
   ]
  },
  {
   "cell_type": "markdown",
   "id": "a3a7f878",
   "metadata": {},
   "source": [
    "**Task 11 (1 point).** Calculate the number of home matches played by the **Borussia Dortmund** team in **Germany 1. Bundesliga** in season **2008/2009**"
   ]
  },
  {
   "cell_type": "code",
   "execution_count": 404,
   "id": "bdf5a267",
   "metadata": {},
   "outputs": [],
   "source": [
    "borussia_bundesliga_2008_2009_matches = match_data.query('home_team_api_id == 9789 & season == \"2008/2009\"').id.count()"
   ]
  },
  {
   "cell_type": "markdown",
   "id": "69dca9a5",
   "metadata": {},
   "source": [
    "**Task 12 (1 point).** Find a team having the most matches (both home and away!) in the **Germany 1. Bundesliga** in **2008/2009** season. Return number of matches."
   ]
  },
  {
   "cell_type": "code",
   "execution_count": 405,
   "id": "9969ba5c",
   "metadata": {},
   "outputs": [],
   "source": [
    "team_most_matches_bundesliga_2008_2009 = match_data.query('league_id == 7809 & season == \"2008/2009\"').groupby('home_team_api_id').count().max().id*2"
   ]
  },
  {
   "cell_type": "markdown",
   "id": "2f3c65aa",
   "metadata": {},
   "source": [
    "**Task 13 (1 point).** Count total number of **Arsenal** matches (both home and away!) in the **2015/2016** season which they have won. <br><br>\n",
    "**Note:** Winning a game means scoring **more** goals than an opponent."
   ]
  },
  {
   "cell_type": "code",
   "execution_count": 406,
   "id": "52456f34",
   "metadata": {},
   "outputs": [],
   "source": [
    "arsenal_games = match_data.query('league_id == 1729 & season == \"2015/2016\" & (home_team_api_id == 9825 or away_team_api_id == 9825)')\n",
    "arsenal_won_matches_2015_2016 = arsenal_games.query('(home_team_api_id == 9825 & home_team_goal > away_team_goal) or (away_team_api_id == 9825 & home_team_goal < away_team_goal)').shape[0]"
   ]
  },
  {
   "cell_type": "markdown",
   "id": "d70d5b23",
   "metadata": {},
   "source": [
    "**Task 14 (2 points).** Find a team with the highest win rate in the **2015/2016** season. Win rate means won matches / all matches. If there are several teams with the highest win rate return the first by name in lexical order"
   ]
  },
  {
   "cell_type": "code",
   "execution_count": 407,
   "id": "b1aa7db0",
   "metadata": {},
   "outputs": [],
   "source": [
    "import numpy as np\n",
    "team_data = pd.read_sql(\"SELECT * FROM Team;\", db)\n",
    "\n",
    "season_15_16 = match_data.query('season == \"2015/2016\"')[['home_team_api_id', 'away_team_api_id', 'home_team_goal', 'away_team_goal']]\n",
    "season_15_16['home_team_winning'] = np.where(season_15_16.home_team_goal > season_15_16.away_team_goal, 1, 0)\n",
    "season_15_16['away_team_winning'] = np.where(season_15_16.home_team_goal < season_15_16.away_team_goal, 1, 0)\n",
    "\n",
    "winning_table = pd.concat([pd.DataFrame(season_15_16[['home_team_api_id', 'home_team_winning']].values),\n",
    "                           pd.DataFrame(season_15_16[['away_team_api_id', 'away_team_winning']].values)],axis=0)\n",
    "winning_table.columns = ['team_api_id', 'winning']\n",
    "winning_table = pd.merge(winning_table, team_data[['team_api_id', 'team_long_name']])\n",
    "\n",
    "team_highest_winrate_2015_2016 = pd.pivot_table(winning_table, values='winning', index='team_long_name') \\\n",
    "    .sort_values(['winning'], ascending=[False]).idxmax()[0]"
   ]
  },
  {
   "cell_type": "markdown",
   "id": "f7f3b4f5",
   "metadata": {},
   "source": [
    "**Task 15 (2 points).** Determine the team with the maximum days' gap between matches in **England Premier League 2010/2011 season**. Return number of days in that gap. <br>\n",
    "**Note**: a *gap* means the number of days between two consecutive matches of the same team."
   ]
  },
  {
   "cell_type": "code",
   "execution_count": 408,
   "id": "a4c33e5f",
   "metadata": {},
   "outputs": [],
   "source": [
    "match_days = pd.concat([pd.DataFrame(match_data.query('season == \"2010/2011\" & league_id == 1729')[['home_team_api_id', 'date']].values),\n",
    "                        pd.DataFrame(match_data.query('season == \"2010/2011\" & league_id == 1729')[['away_team_api_id', 'date']].values)], axis=0).sort_values([0,1])\n",
    "match_days.columns = ['team_api_id', 'date']\n",
    "match_days['date'] = pd.to_datetime(match_days.date)\n",
    "match_days['shift_date'] = pd.to_datetime(match_days.date).shift()\n",
    "match_days['difference'] = match_days['date'] - match_days['shift_date']\n",
    "\n",
    "highest_gap_england_2010_2011 = match_days.difference.max().days"
   ]
  },
  {
   "cell_type": "markdown",
   "id": "acecc77f",
   "metadata": {
    "pycharm": {
     "name": "#%% md\n"
    }
   },
   "source": [
    "### Warning! Do not change anything in the area below"
   ]
  },
  {
   "cell_type": "code",
   "execution_count": 409,
   "outputs": [],
   "source": [
    "with open('student_answers.txt', 'w') as file:\n",
    "    file.write(f\"{players_180_190}\\n\")\n",
    "    file.write(f\"{players_1980}\\n\")\n",
    "    file.write(f\"{highest_players}\\n\")\n",
    "    file.write(f\"{years_born_players}\\n\")\n",
    "    file.write(f\"{round(adriano_mean, 3)} {round(adriano_std, 3)}\\n\")\n",
    "    file.write(f\"{dow_with_min_players_born}\\n\")\n",
    "    file.write(f\"{league_most_matches}\\n\")\n",
    "    file.write(f\"{max_matches_player}\\n\")\n",
    "    file.write(f\"{';'.join(['%s,%s' % tup for tup in top_correlated_features])};\\n\")\n",
    "    file.write(f\"{neymar_similarities}\\n\")\n",
    "    file.write(f\"{borussia_bundesliga_2008_2009_matches}\\n\")\n",
    "    file.write(f\"{team_most_matches_bundesliga_2008_2009}\\n\")\n",
    "    file.write(f\"{arsenal_won_matches_2015_2016}\\n\")\n",
    "    file.write(f\"{team_highest_winrate_2015_2016}\\n\")\n",
    "    file.write(f\"{highest_gap_england_2010_2011}\\n\")"
   ],
   "metadata": {
    "collapsed": false,
    "pycharm": {
     "name": "#%%\n"
    }
   }
  }
 ],
 "metadata": {
  "kernelspec": {
   "display_name": "Python 3 (ipykernel)",
   "language": "python",
   "name": "python3"
  },
  "language_info": {
   "codemirror_mode": {
    "name": "ipython",
    "version": 3
   },
   "file_extension": ".py",
   "mimetype": "text/x-python",
   "name": "python",
   "nbconvert_exporter": "python",
   "pygments_lexer": "ipython3",
   "version": "3.8.12"
  }
 },
 "nbformat": 4,
 "nbformat_minor": 5
}